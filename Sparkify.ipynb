{
 "cells": [
  {
   "cell_type": "markdown",
   "metadata": {},
   "source": [
    "# Sparkify - Predicting Churn With Spark\n",
    "### Giulio Cesare Mastrocinque Santo"
   ]
  },
  {
   "cell_type": "markdown",
   "metadata": {},
   "source": [
    "#### \"*Customer churn is when an existing customer, user, player, subscriber or any kind of return client stops doing business or ends the relationship with a company.*\n",
    "\n",
    "#### *This could, for example, mean cancellation of a subscription, ending of a membership, closure of an account of some sort, not renewing a service agreement or contract and even a customer deciding to buy his or her groceries in another store.* [1]\"\n",
    "\n",
    "#### In this project I will be developing a full Data Science project in order to predict cutomer churn for a fictitious company called Sparkify. I will be developing all my analysis using Spark through the IBM Watson Studio."
   ]
  },
  {
   "cell_type": "markdown",
   "metadata": {},
   "source": [
    "## Table of Content:\n",
    "* [<font size=\"4\" class=\"anchor\">Imports</font>](#imports)\n",
    "* [<font size=\"4\" class=\"anchor\">Extract and Clean Data</font>](#extract-clean)\n",
    "* [<font size=\"4\" class=\"anchor\">Explanatory Data Analysis</font>](#eda)\n",
    "* [<font size=\"4\" class=\"anchor\">Data Transformation and Feature Engineering</font>](#data-transf)\n",
    "* [<font size=\"4\" class=\"anchor\">ETL Process</font>](#etl)\n",
    "* [<font size=\"4\" class=\"anchor\">Predicting Churn With Machine Learning</font>](#ml)"
   ]
  },
  {
   "cell_type": "markdown",
   "metadata": {},
   "source": [
    "## <a class=\"anchor\" id=\"imports\">Imports</a>"
   ]
  },
  {
   "cell_type": "code",
   "execution_count": 22,
   "metadata": {},
   "outputs": [],
   "source": [
    "from pyspark.sql import functions as F\n",
    "from pyspark.sql.functions import udf\n",
    "from pyspark.sql.types import IntegerType\n",
    "from pyspark.sql.window import Window\n",
    "from pyspark.ml import Pipeline\n",
    "from pyspark.ml.classification import LogisticRegression, RandomForestClassifier\n",
    "from pyspark.ml.evaluation import MulticlassClassificationEvaluator\n",
    "from pyspark.ml.feature import StandardScaler\n",
    "from pyspark.ml.tuning import CrossValidator, ParamGridBuilder\n",
    "\n",
    "import datetime\n",
    "\n",
    "import pandas as pd\n",
    "import seaborn as sns\n",
    "import matplotlib.pyplot as plt\n",
    "\n",
    "%matplotlib inline\n",
    "sns.set_style(\"darkgrid\")"
   ]
  },
  {
   "cell_type": "code",
   "execution_count": 9,
   "metadata": {},
   "outputs": [
    {
     "data": {
      "text/plain": [
       "[Row(artist='Martin Orford', auth='Logged In', firstName='Joseph', gender='M', itemInSession=20, lastName='Morales', length=597.55057, level='free', location='Corpus Christi, TX', method='PUT', page='NextSong', registration=1532063507000, sessionId=292, song='Grand Designs', status=200, ts=1538352011000, userAgent='\"Mozilla/5.0 (Macintosh; Intel Mac OS X 10_9_4) AppleWebKit/537.36 (KHTML, like Gecko) Chrome/36.0.1985.125 Safari/537.36\"', userId='293'),\n",
       " Row(artist=\"John Brown's Body\", auth='Logged In', firstName='Sawyer', gender='M', itemInSession=74, lastName='Larson', length=380.21179, level='free', location='Houston-The Woodlands-Sugar Land, TX', method='PUT', page='NextSong', registration=1538069638000, sessionId=97, song='Bulls', status=200, ts=1538352025000, userAgent='\"Mozilla/5.0 (Macintosh; Intel Mac OS X 10_9_4) AppleWebKit/537.36 (KHTML, like Gecko) Chrome/36.0.1985.143 Safari/537.36\"', userId='98'),\n",
       " Row(artist='Afroman', auth='Logged In', firstName='Maverick', gender='M', itemInSession=184, lastName='Santiago', length=202.37016, level='paid', location='Orlando-Kissimmee-Sanford, FL', method='PUT', page='NextSong', registration=1535953455000, sessionId=178, song='Because I Got High', status=200, ts=1538352118000, userAgent='\"Mozilla/5.0 (Macintosh; Intel Mac OS X 10_9_4) AppleWebKit/537.36 (KHTML, like Gecko) Chrome/36.0.1985.143 Safari/537.36\"', userId='179'),\n",
       " Row(artist=None, auth='Logged In', firstName='Maverick', gender='M', itemInSession=185, lastName='Santiago', length=None, level='paid', location='Orlando-Kissimmee-Sanford, FL', method='PUT', page='Logout', registration=1535953455000, sessionId=178, song=None, status=307, ts=1538352119000, userAgent='\"Mozilla/5.0 (Macintosh; Intel Mac OS X 10_9_4) AppleWebKit/537.36 (KHTML, like Gecko) Chrome/36.0.1985.143 Safari/537.36\"', userId='179'),\n",
       " Row(artist='Lily Allen', auth='Logged In', firstName='Gianna', gender='F', itemInSession=22, lastName='Campos', length=194.53342, level='paid', location='Mobile, AL', method='PUT', page='NextSong', registration=1535931018000, sessionId=245, song='Smile (Radio Edit)', status=200, ts=1538352124000, userAgent='Mozilla/5.0 (Windows NT 6.1; WOW64; rv:31.0) Gecko/20100101 Firefox/31.0', userId='246')]"
      ]
     },
     "execution_count": 9,
     "metadata": {},
     "output_type": "execute_result"
    }
   ],
   "source": [
    "import ibmos2spark\n",
    "# @hidden_cell\n",
    "credentials = {\n",
    "    'endpoint': 'https://s3-api.us-geo.objectstorage.service.networklayer.com',\n",
    "    'service_id': 'iam-ServiceId-641cb602-a856-4241-820f-a99f0f4f9f11',\n",
    "    'iam_service_endpoint': 'https://iam.ng.bluemix.net/oidc/token',\n",
    "    'api_key': 'dt7c2kJIRKFY4uY3psyjJg6W7CM7v2OqajQ6Ash3Kvce'\n",
    "}\n",
    "\n",
    "configuration_name = 'os_ada30a5c278b4d6bb58a5faa0c7f8edb_configs'\n",
    "cos = ibmos2spark.CloudObjectStorage(sc, credentials, configuration_name, 'bluemix_cos')\n",
    "\n",
    "from pyspark.sql import SparkSession\n",
    "spark = SparkSession.builder.getOrCreate()\n",
    "# Since JSON data can be semi-structured and contain additional metadata, it is possible that you might face issues with the DataFrame layout.\n",
    "# Please read the documentation of 'SparkSession.read()' to learn more about the possibilities to adjust the data loading.\n",
    "# PySpark documentation: http://spark.apache.org/docs/2.0.2/api/python/pyspark.sql.html#pyspark.sql.DataFrameReader.json\n",
    "\n",
    "df_data_1 = spark.read.json(cos.url('medium-sparkify-event-data.json', 'sparkify-donotdelete-pr-cz623hxuazrnhw'))\n",
    "df_data_1.take(5)"
   ]
  },
  {
   "cell_type": "markdown",
   "metadata": {},
   "source": [
    "## <a class=\"anchor\" id=\"extract-clean\">Extract and Clean Data</a>"
   ]
  },
  {
   "cell_type": "markdown",
   "metadata": {},
   "source": [
    "#### First, I will verify the data structure!"
   ]
  },
  {
   "cell_type": "code",
   "execution_count": 10,
   "metadata": {},
   "outputs": [
    {
     "name": "stdout",
     "output_type": "stream",
     "text": [
      "root\n",
      " |-- artist: string (nullable = true)\n",
      " |-- auth: string (nullable = true)\n",
      " |-- firstName: string (nullable = true)\n",
      " |-- gender: string (nullable = true)\n",
      " |-- itemInSession: long (nullable = true)\n",
      " |-- lastName: string (nullable = true)\n",
      " |-- length: double (nullable = true)\n",
      " |-- level: string (nullable = true)\n",
      " |-- location: string (nullable = true)\n",
      " |-- method: string (nullable = true)\n",
      " |-- page: string (nullable = true)\n",
      " |-- registration: long (nullable = true)\n",
      " |-- sessionId: long (nullable = true)\n",
      " |-- song: string (nullable = true)\n",
      " |-- status: long (nullable = true)\n",
      " |-- ts: long (nullable = true)\n",
      " |-- userAgent: string (nullable = true)\n",
      " |-- userId: string (nullable = true)\n",
      "\n"
     ]
    }
   ],
   "source": [
    "df_data_1.printSchema()"
   ]
  },
  {
   "cell_type": "markdown",
   "metadata": {},
   "source": [
    "#### Now, I will be searching for Null Values"
   ]
  },
  {
   "cell_type": "code",
   "execution_count": 11,
   "metadata": {},
   "outputs": [
    {
     "data": {
      "text/plain": [
       "15700"
      ]
     },
     "execution_count": 11,
     "metadata": {},
     "output_type": "execute_result"
    }
   ],
   "source": [
    "from pyspark.sql.functions import isnan, when, count, col\n",
    "\n",
    "df_data_1.filter((df_data_1[\"userId\"] == \"\") | df_data_1[\"userId\"].isNull() | isnan(df_data_1[\"userId\"])).count()"
   ]
  },
  {
   "cell_type": "code",
   "execution_count": 12,
   "metadata": {},
   "outputs": [
    {
     "name": "stdout",
     "output_type": "stream",
     "text": [
      "NUMBER OF NULL VALUES PER COLUMN... \n",
      "\n",
      "+------+----+---------+------+-------------+--------+------+-----+--------+------+----+------------+---------+------+------+---+---------+------+\n",
      "|artist|auth|firstName|gender|itemInSession|lastName|length|level|location|method|page|registration|sessionId|  song|status| ts|userAgent|userId|\n",
      "+------+----+---------+------+-------------+--------+------+-----+--------+------+----+------------+---------+------+------+---+---------+------+\n",
      "|110828|   0|    15700| 15700|            0|   15700|110828|    0|   15700|     0|   0|       15700|        0|110828|     0|  0|    15700|     0|\n",
      "+------+----+---------+------+-------------+--------+------+-----+--------+------+----+------------+---------+------+------+---+---------+------+\n",
      "\n"
     ]
    }
   ],
   "source": [
    "print(\"NUMBER OF NULL VALUES PER COLUMN... \\n\")\n",
    "\n",
    "df_data_1.select([count(when(df_data_1[c].isNull(), c)).alias(c) for c in df_data_1.columns]).show()"
   ]
  },
  {
   "cell_type": "code",
   "execution_count": 13,
   "metadata": {},
   "outputs": [
    {
     "name": "stdout",
     "output_type": "stream",
     "text": [
      "NUMBER OF NAN VALUES PER COLUMN... \n",
      "\n",
      "+------+----+---------+------+-------------+--------+------+-----+--------+------+----+------------+---------+----+------+---+---------+------+\n",
      "|artist|auth|firstName|gender|itemInSession|lastName|length|level|location|method|page|registration|sessionId|song|status| ts|userAgent|userId|\n",
      "+------+----+---------+------+-------------+--------+------+-----+--------+------+----+------------+---------+----+------+---+---------+------+\n",
      "|     0|   0|        0|     0|            0|       0|     0|    0|       0|     0|   0|           0|        0|   0|     0|  0|        0|     0|\n",
      "+------+----+---------+------+-------------+--------+------+-----+--------+------+----+------------+---------+----+------+---+---------+------+\n",
      "\n"
     ]
    }
   ],
   "source": [
    "print(\"NUMBER OF NAN VALUES PER COLUMN... \\n\")\n",
    "\n",
    "df_data_1.select([count(when(isnan(df_data_1[c]), c)).alias(c) for c in df_data_1.columns]).show()"
   ]
  },
  {
   "cell_type": "code",
   "execution_count": 14,
   "metadata": {},
   "outputs": [
    {
     "name": "stdout",
     "output_type": "stream",
     "text": [
      "NUMBER OF BLANK VALUES PER COLUMN... \n",
      "\n",
      "+------+----+---------+------+-------------+--------+------+-----+--------+------+----+------------+---------+----+------+---+---------+------+\n",
      "|artist|auth|firstName|gender|itemInSession|lastName|length|level|location|method|page|registration|sessionId|song|status| ts|userAgent|userId|\n",
      "+------+----+---------+------+-------------+--------+------+-----+--------+------+----+------------+---------+----+------+---+---------+------+\n",
      "|     0|   0|        0|     0|            0|       0|     0|    0|       0|     0|   0|           0|        0|   0|     0|  0|        0| 15700|\n",
      "+------+----+---------+------+-------------+--------+------+-----+--------+------+----+------------+---------+----+------+---+---------+------+\n",
      "\n"
     ]
    }
   ],
   "source": [
    "print(\"NUMBER OF BLANK VALUES PER COLUMN... \\n\")\n",
    "\n",
    "df_data_1.select([count(when(df_data_1[c] == \"\", c)).alias(c) for c in df_data_1.columns]).show()"
   ]
  },
  {
   "cell_type": "markdown",
   "metadata": {},
   "source": [
    "#### Let's remove NaN values from userID and sessionId columns"
   ]
  },
  {
   "cell_type": "code",
   "execution_count": 15,
   "metadata": {},
   "outputs": [],
   "source": [
    "df_clean = df_data_1.dropna(how = \"any\", subset = [\"userId\", \"sessionId\"])"
   ]
  },
  {
   "cell_type": "markdown",
   "metadata": {},
   "source": [
    "#### Now, let's verify the unique values of user Id to verify the identified blank values"
   ]
  },
  {
   "cell_type": "code",
   "execution_count": 16,
   "metadata": {},
   "outputs": [
    {
     "name": "stdout",
     "output_type": "stream",
     "text": [
      "+------+\n",
      "|userId|\n",
      "+------+\n",
      "|      |\n",
      "|    10|\n",
      "|   100|\n",
      "|100001|\n",
      "|100002|\n",
      "+------+\n",
      "only showing top 5 rows\n",
      "\n"
     ]
    }
   ],
   "source": [
    "df_clean.select(\"userId\").dropDuplicates().sort(\"userId\").show(5)"
   ]
  },
  {
   "cell_type": "markdown",
   "metadata": {},
   "source": [
    "#### One can clearly notice the blank id that repeats 15700 times! Let's remove this Id from the analisis"
   ]
  },
  {
   "cell_type": "code",
   "execution_count": 17,
   "metadata": {},
   "outputs": [],
   "source": [
    "df_clean = df_clean.filter(df_clean.userId != \"\")"
   ]
  },
  {
   "cell_type": "code",
   "execution_count": 18,
   "metadata": {},
   "outputs": [
    {
     "name": "stdout",
     "output_type": "stream",
     "text": [
      "+------+\n",
      "|userId|\n",
      "+------+\n",
      "|    10|\n",
      "|   100|\n",
      "|100001|\n",
      "|100002|\n",
      "|100003|\n",
      "+------+\n",
      "only showing top 5 rows\n",
      "\n"
     ]
    }
   ],
   "source": [
    "df_clean.select(\"userId\").dropDuplicates().sort(\"userId\").show(5)"
   ]
  },
  {
   "cell_type": "code",
   "execution_count": 19,
   "metadata": {},
   "outputs": [
    {
     "name": "stdout",
     "output_type": "stream",
     "text": [
      "NUMBER OF BLANK VALUES PER COLUMN... \n",
      "\n",
      "+------+----+---------+------+-------------+--------+------+-----+--------+------+----+------------+---------+----+------+---+---------+------+\n",
      "|artist|auth|firstName|gender|itemInSession|lastName|length|level|location|method|page|registration|sessionId|song|status| ts|userAgent|userId|\n",
      "+------+----+---------+------+-------------+--------+------+-----+--------+------+----+------------+---------+----+------+---+---------+------+\n",
      "|     0|   0|        0|     0|            0|       0|     0|    0|       0|     0|   0|           0|        0|   0|     0|  0|        0|     0|\n",
      "+------+----+---------+------+-------------+--------+------+-----+--------+------+----+------------+---------+----+------+---+---------+------+\n",
      "\n"
     ]
    }
   ],
   "source": [
    "print(\"NUMBER OF BLANK VALUES PER COLUMN... \\n\")\n",
    "\n",
    "df_clean.select([count(when(df_clean[c] == \"\", c)).alias(c) for c in df_clean.columns]).show()"
   ]
  },
  {
   "cell_type": "code",
   "execution_count": 20,
   "metadata": {},
   "outputs": [
    {
     "name": "stdout",
     "output_type": "stream",
     "text": [
      "NUMBER OF NULL VALUES PER COLUMN... \n",
      "\n",
      "+------+----+---------+------+-------------+--------+------+-----+--------+------+----+------------+---------+-----+------+---+---------+------+\n",
      "|artist|auth|firstName|gender|itemInSession|lastName|length|level|location|method|page|registration|sessionId| song|status| ts|userAgent|userId|\n",
      "+------+----+---------+------+-------------+--------+------+-----+--------+------+----+------------+---------+-----+------+---+---------+------+\n",
      "| 95128|   0|        0|     0|            0|       0| 95128|    0|       0|     0|   0|           0|        0|95128|     0|  0|        0|     0|\n",
      "+------+----+---------+------+-------------+--------+------+-----+--------+------+----+------------+---------+-----+------+---+---------+------+\n",
      "\n"
     ]
    }
   ],
   "source": [
    "print(\"NUMBER OF NULL VALUES PER COLUMN... \\n\")\n",
    "\n",
    "df_clean.select([count(when(df_clean[c].isNull(), c)).alias(c) for c in df_clean.columns]).show()"
   ]
  },
  {
   "cell_type": "markdown",
   "metadata": {},
   "source": [
    "#### Lets adjust the timestamp format for column registration and ts"
   ]
  },
  {
   "cell_type": "code",
   "execution_count": 23,
   "metadata": {},
   "outputs": [],
   "source": [
    "get_strftime = udf(lambda x: datetime.datetime.fromtimestamp(x / 1000.0).strftime(\"%Y-%m-%d %H:%M:%S\"))"
   ]
  },
  {
   "cell_type": "code",
   "execution_count": 24,
   "metadata": {},
   "outputs": [],
   "source": [
    "df_clean = df_clean.withColumn(\"time_stamp\", get_strftime(col(\"ts\")))"
   ]
  },
  {
   "cell_type": "code",
   "execution_count": 25,
   "metadata": {
    "scrolled": true
   },
   "outputs": [],
   "source": [
    "df_clean = df_clean.withColumn(\"registration_date\", get_strftime(col(\"registration\")))"
   ]
  },
  {
   "cell_type": "markdown",
   "metadata": {},
   "source": [
    "## <a class=\"anchor\" id=\"eda\">Explanatory Data Analysis</a>"
   ]
  },
  {
   "cell_type": "markdown",
   "metadata": {},
   "source": [
    "#### In this section, let's try to understand more about our dataset!"
   ]
  },
  {
   "cell_type": "markdown",
   "metadata": {},
   "source": [
    "#### Let's begin printing the number of unique sessions as well as the number of times stamps"
   ]
  },
  {
   "cell_type": "code",
   "execution_count": 26,
   "metadata": {
    "scrolled": true
   },
   "outputs": [
    {
     "name": "stdout",
     "output_type": "stream",
     "text": [
      "Number of unique session IDS: 4470\n"
     ]
    }
   ],
   "source": [
    "print(f\"Number of unique session IDS: {df_clean.select('sessionId').dropDuplicates().count()}\")"
   ]
  },
  {
   "cell_type": "code",
   "execution_count": 27,
   "metadata": {},
   "outputs": [
    {
     "name": "stdout",
     "output_type": "stream",
     "text": [
      "Number of unique Time Stamps: 499351\n"
     ]
    }
   ],
   "source": [
    "print(f\"Number of unique Time Stamps: {df_clean.select('ts').dropDuplicates().count()}\")"
   ]
  },
  {
   "cell_type": "markdown",
   "metadata": {},
   "source": [
    "#### Ok, now let's see how many user interactions we have in average..."
   ]
  },
  {
   "cell_type": "code",
   "execution_count": 28,
   "metadata": {},
   "outputs": [],
   "source": [
    "user_avg_iteractions = df_clean.groupby(['userId','gender']).agg(count(col(\"sessionId\")))"
   ]
  },
  {
   "cell_type": "code",
   "execution_count": 29,
   "metadata": {},
   "outputs": [],
   "source": [
    "user_avg_iteractions = user_avg_iteractions.groupby('gender').mean()"
   ]
  },
  {
   "cell_type": "code",
   "execution_count": 30,
   "metadata": {},
   "outputs": [
    {
     "name": "stdout",
     "output_type": "stream",
     "text": [
      "+------+---------------------+\n",
      "|gender|avg(count(sessionId))|\n",
      "+------+---------------------+\n",
      "|     F|   1138.3484848484848|\n",
      "|     M|             1210.448|\n",
      "+------+---------------------+\n",
      "\n"
     ]
    }
   ],
   "source": [
    "user_avg_iteractions.show()"
   ]
  },
  {
   "cell_type": "code",
   "execution_count": 31,
   "metadata": {},
   "outputs": [],
   "source": [
    "user_avg_iteractions = user_avg_iteractions.toPandas()"
   ]
  },
  {
   "cell_type": "code",
   "execution_count": 32,
   "metadata": {},
   "outputs": [
    {
     "data": {
      "text/html": [
       "<div>\n",
       "<style scoped>\n",
       "    .dataframe tbody tr th:only-of-type {\n",
       "        vertical-align: middle;\n",
       "    }\n",
       "\n",
       "    .dataframe tbody tr th {\n",
       "        vertical-align: top;\n",
       "    }\n",
       "\n",
       "    .dataframe thead th {\n",
       "        text-align: right;\n",
       "    }\n",
       "</style>\n",
       "<table border=\"1\" class=\"dataframe\">\n",
       "  <thead>\n",
       "    <tr style=\"text-align: right;\">\n",
       "      <th></th>\n",
       "      <th>gender</th>\n",
       "      <th>avg(count(sessionId))</th>\n",
       "    </tr>\n",
       "  </thead>\n",
       "  <tbody>\n",
       "    <tr>\n",
       "      <th>0</th>\n",
       "      <td>F</td>\n",
       "      <td>1138.348485</td>\n",
       "    </tr>\n",
       "    <tr>\n",
       "      <th>1</th>\n",
       "      <td>M</td>\n",
       "      <td>1210.448000</td>\n",
       "    </tr>\n",
       "  </tbody>\n",
       "</table>\n",
       "</div>"
      ],
      "text/plain": [
       "  gender  avg(count(sessionId))\n",
       "0      F            1138.348485\n",
       "1      M            1210.448000"
      ]
     },
     "execution_count": 32,
     "metadata": {},
     "output_type": "execute_result"
    }
   ],
   "source": [
    "user_avg_iteractions"
   ]
  },
  {
   "cell_type": "code",
   "execution_count": 33,
   "metadata": {},
   "outputs": [],
   "source": [
    "user_avg_iteractions = user_avg_iteractions.rename(columns={'avg(count(sessionId))':'avg_sessionid'})"
   ]
  },
  {
   "cell_type": "code",
   "execution_count": 34,
   "metadata": {},
   "outputs": [
    {
     "data": {
      "image/png": "[encoded data removed]",
      "text/plain": [
       "<Figure size 432x288 with 1 Axes>"
      ]
     },
     "metadata": {
      "needs_background": "light"
     },
     "output_type": "display_data"
    }
   ],
   "source": [
    "user_avg_iteractions.plot(y='avg_sessionid',x='gender',kind='barh',colormap='viridis')\n",
    "plt.title(\"User Average Number of Interactions by Gender\",fontsize=16, fontweight='bold');\n",
    "plt.xlabel(\"Average Number of Interactions\",fontsize=14, fontweight='bold');\n",
    "plt.ylabel(\"User Gender\",fontsize=14, fontweight='bold');"
   ]
  },
  {
   "cell_type": "markdown",
   "metadata": {},
   "source": [
    "#### Let's see how many users we have by gender!"
   ]
  },
  {
   "cell_type": "code",
   "execution_count": 35,
   "metadata": {},
   "outputs": [],
   "source": [
    "level_gender = df_clean.groupby(['gender','level']).agg(F.expr('count(distinct userId)'))"
   ]
  },
  {
   "cell_type": "code",
   "execution_count": 36,
   "metadata": {},
   "outputs": [
    {
     "name": "stdout",
     "output_type": "stream",
     "text": [
      "+------+-----+-------------+\n",
      "|gender|level|count(userId)|\n",
      "+------+-----+-------------+\n",
      "|     M| free|          212|\n",
      "|     F| free|          158|\n",
      "|     F| paid|          150|\n",
      "|     M| paid|          171|\n",
      "+------+-----+-------------+\n",
      "\n"
     ]
    }
   ],
   "source": [
    "level_gender.show()"
   ]
  },
  {
   "cell_type": "code",
   "execution_count": 37,
   "metadata": {},
   "outputs": [],
   "source": [
    "level_gender = level_gender.toPandas()\n",
    "level_gender = level_gender.pivot(index='gender', columns='level', values='count(userId)')"
   ]
  },
  {
   "cell_type": "code",
   "execution_count": 38,
   "metadata": {
    "scrolled": true
   },
   "outputs": [
    {
     "data": {
      "image/png": "[encoded data removed]",
      "text/plain": [
       "<Figure size 432x288 with 2 Axes>"
      ]
     },
     "metadata": {
      "needs_background": "light"
     },
     "output_type": "display_data"
    }
   ],
   "source": [
    "ax = sns.heatmap(level_gender, annot=True)\n",
    "plt.title(\"Number of Users by Gender and Level\", fontsize=16, fontweight='bold')\n",
    "plt.xlabel(\"Level\", fontsize=14, fontweight='bold')\n",
    "plt.ylabel(\"Gender\", fontsize=14, fontweight='bold')\n",
    "plt.show()"
   ]
  },
  {
   "cell_type": "markdown",
   "metadata": {},
   "source": [
    "#### Now let's see the different pages we have in Sparkify"
   ]
  },
  {
   "cell_type": "code",
   "execution_count": 32,
   "metadata": {},
   "outputs": [
    {
     "name": "stdout",
     "output_type": "stream",
     "text": [
      "Unique Pages in the Log Data \n",
      "\n",
      "+--------------------+\n",
      "|                page|\n",
      "+--------------------+\n",
      "|              Cancel|\n",
      "|    Submit Downgrade|\n",
      "|         Thumbs Down|\n",
      "|                Home|\n",
      "|           Downgrade|\n",
      "|         Roll Advert|\n",
      "|              Logout|\n",
      "|       Save Settings|\n",
      "|Cancellation Conf...|\n",
      "|               About|\n",
      "|            Settings|\n",
      "|     Add to Playlist|\n",
      "|          Add Friend|\n",
      "|            NextSong|\n",
      "|           Thumbs Up|\n",
      "|                Help|\n",
      "|             Upgrade|\n",
      "|               Error|\n",
      "|      Submit Upgrade|\n",
      "+--------------------+\n",
      "\n"
     ]
    }
   ],
   "source": [
    "print(\"Unique Pages in the Log Data \\n\")\n",
    "\n",
    "df_clean.select(\"page\").dropDuplicates().show()"
   ]
  },
  {
   "cell_type": "markdown",
   "metadata": {},
   "source": [
    "#### Let's checkout the most popular artists!"
   ]
  },
  {
   "cell_type": "code",
   "execution_count": 33,
   "metadata": {},
   "outputs": [],
   "source": [
    "most_played_artists = df_clean.filter(df_clean.page == 'NextSong') \\\n",
    "                              .select('Artist') \\\n",
    "                              .groupBy('Artist') \\\n",
    "                              .agg({'Artist':'count'}) \\\n",
    "                              .withColumnRenamed('count(Artist)', 'Artistcount') \\\n",
    "                              .sort(F.desc('Artistcount'))"
   ]
  },
  {
   "cell_type": "code",
   "execution_count": 34,
   "metadata": {},
   "outputs": [
    {
     "name": "stdout",
     "output_type": "stream",
     "text": [
      "+--------------------+-----------+\n",
      "|              Artist|Artistcount|\n",
      "+--------------------+-----------+\n",
      "|       Kings Of Leon|       3497|\n",
      "|            Coldplay|       3439|\n",
      "|Florence + The Ma...|       2314|\n",
      "|                Muse|       2194|\n",
      "|       Dwight Yoakam|       2187|\n",
      "|      The Black Keys|       2160|\n",
      "|            BjÃÂ¶rk|       2150|\n",
      "|       Justin Bieber|       2096|\n",
      "|        Jack Johnson|       2049|\n",
      "|           Radiohead|       1694|\n",
      "|              Eminem|       1686|\n",
      "|     Alliance Ethnik|       1654|\n",
      "|         OneRepublic|       1651|\n",
      "|        Taylor Swift|       1555|\n",
      "|         The Killers|       1554|\n",
      "|               Train|       1537|\n",
      "|         Linkin Park|       1487|\n",
      "|         Evanescence|       1426|\n",
      "|          John Mayer|       1350|\n",
      "|            Harmonia|       1344|\n",
      "+--------------------+-----------+\n",
      "only showing top 20 rows\n",
      "\n"
     ]
    }
   ],
   "source": [
    "most_played_artists.show()"
   ]
  },
  {
   "cell_type": "code",
   "execution_count": 35,
   "metadata": {},
   "outputs": [],
   "source": [
    "most_played_artists = most_played_artists.toPandas()"
   ]
  },
  {
   "cell_type": "code",
   "execution_count": 36,
   "metadata": {},
   "outputs": [],
   "source": [
    "top_10_artists = most_played_artists.head(10)"
   ]
  },
  {
   "cell_type": "code",
   "execution_count": 40,
   "metadata": {},
   "outputs": [
    {
     "data": {
      "image/png": "[encoded data removed]",
      "text/plain": [
       "<Figure size 1152x288 with 1 Axes>"
      ]
     },
     "metadata": {
      "needs_background": "light"
     },
     "output_type": "display_data"
    }
   ],
   "source": [
    "plt.figure(figsize=(16,4))\n",
    "plt.bar(top_10_artists['Artist'],top_10_artists['Artistcount'])\n",
    "plt.title(\"Top 10 Played Artists\",fontsize=16, fontweight='bold')\n",
    "plt.ylabel(\"Number of Users\",fontsize=14, fontweight='bold')\n",
    "plt.xlabel(\"Artists\",fontsize=14, fontweight='bold')\n",
    "plt.xticks(rotation=30);"
   ]
  },
  {
   "cell_type": "markdown",
   "metadata": {},
   "source": [
    "#### Let's Check the Number of Songs users listen to on average between visiting the HomePage"
   ]
  },
  {
   "cell_type": "code",
   "execution_count": 42,
   "metadata": {},
   "outputs": [
    {
     "name": "stdout",
     "output_type": "stream",
     "text": [
      "+------------------+\n",
      "|avg(count(period))|\n",
      "+------------------+\n",
      "| 23.66741388737015|\n",
      "+------------------+\n",
      "\n"
     ]
    }
   ],
   "source": [
    "function = udf(lambda ishome : int(ishome == 'Home'), IntegerType())\n",
    "\n",
    "user_window = Window \\\n",
    "    .partitionBy('userID') \\\n",
    "    .orderBy(F.desc('ts')) \\\n",
    "    .rangeBetween(Window.unboundedPreceding, 0)\n",
    "\n",
    "cusum = df_clean.filter((df_clean.page == 'NextSong') | (df_clean.page == 'Home')) \\\n",
    "    .select('userID', 'page', 'ts') \\\n",
    "    .withColumn('homevisit', function(col('page'))) \\\n",
    "    .withColumn('period', F.sum('homevisit').over(user_window))\n",
    "\n",
    "cusum.filter((cusum.page == 'NextSong')) \\\n",
    "    .groupBy('userID', 'period') \\\n",
    "    .agg({'period':'count'}) \\\n",
    "    .agg({'count(period)':'avg'}).show()"
   ]
  },
  {
   "cell_type": "markdown",
   "metadata": {},
   "source": [
    "### Finally, let's define Churn"
   ]
  },
  {
   "cell_type": "code",
   "execution_count": 43,
   "metadata": {},
   "outputs": [],
   "source": [
    "churn_fcn = udf(lambda x: 1 if x=='Cancellation Confirmation' else 0)"
   ]
  },
  {
   "cell_type": "code",
   "execution_count": 44,
   "metadata": {},
   "outputs": [],
   "source": [
    "churned_users = df_clean.withColumn(\"churn\", churn_fcn(col(\"page\")))\\\n",
    "                        .groupby('userId')\\\n",
    "                        .agg(F.max('churn').alias('churned_user'))"
   ]
  },
  {
   "cell_type": "code",
   "execution_count": 45,
   "metadata": {
    "scrolled": true
   },
   "outputs": [
    {
     "name": "stdout",
     "output_type": "stream",
     "text": [
      "+------+------------+\n",
      "|userId|churned_user|\n",
      "+------+------------+\n",
      "|100010|           1|\n",
      "|200002|           1|\n",
      "|   296|           1|\n",
      "|   125|           0|\n",
      "|   124|           1|\n",
      "+------+------------+\n",
      "only showing top 5 rows\n",
      "\n"
     ]
    }
   ],
   "source": [
    "churned_users.show(5)"
   ]
  },
  {
   "cell_type": "code",
   "execution_count": 58,
   "metadata": {
    "scrolled": true
   },
   "outputs": [],
   "source": [
    "churn_by_gender = df_clean.join(churned_users, ['userId'])\\\n",
    "                          .groupby('gender','churned_user')\\\n",
    "                          .agg(F.expr('count(distinct userId)'))"
   ]
  },
  {
   "cell_type": "code",
   "execution_count": 59,
   "metadata": {
    "scrolled": true
   },
   "outputs": [
    {
     "name": "stdout",
     "output_type": "stream",
     "text": [
      "+------+------------+-------------+\n",
      "|gender|churned_user|count(userId)|\n",
      "+------+------------+-------------+\n",
      "|     M|           1|           54|\n",
      "|     F|           1|           45|\n",
      "|     F|           0|          153|\n",
      "|     M|           0|          196|\n",
      "+------+------------+-------------+\n",
      "\n"
     ]
    }
   ],
   "source": [
    "churn_by_gender.show()"
   ]
  },
  {
   "cell_type": "code",
   "execution_count": 60,
   "metadata": {},
   "outputs": [],
   "source": [
    "churn_by_gender = churn_by_gender.toPandas()"
   ]
  },
  {
   "cell_type": "code",
   "execution_count": null,
   "metadata": {},
   "outputs": [],
   "source": [
    "churn_by_gender = churn_by_gender.pivot(index='gender', columns='churned_user', values='count(userId)')"
   ]
  },
  {
   "cell_type": "code",
   "execution_count": 63,
   "metadata": {},
   "outputs": [
    {
     "data": {
      "image/png": "[encoded data removed]",
      "text/plain": [
       "<Figure size 432x288 with 2 Axes>"
      ]
     },
     "metadata": {
      "needs_background": "light"
     },
     "output_type": "display_data"
    }
   ],
   "source": [
    "ax = sns.heatmap(churn_by_gender, annot=True,fmt=\".2f\")\n",
    "plt.title(\"Number of Users By Gender and By Churn\", fontsize=16, fontweight='bold')\n",
    "plt.xlabel(\"Churned Users?\", fontsize=14, fontweight='bold')\n",
    "plt.ylabel(\"Gender\", fontsize=14, fontweight='bold')\n",
    "plt.show()"
   ]
  },
  {
   "cell_type": "markdown",
   "metadata": {},
   "source": [
    "## <a class=\"anchor\" id=\"data-transf\">Data Transformation and Feature Engineering</a>\n",
    "\n",
    "#### In this section I will be performing feature engineering and data transformations in order to create a modeling dataframe that is able to predict Churn."
   ]
  },
  {
   "cell_type": "markdown",
   "metadata": {},
   "source": [
    "**1) Number of Songs Each User Listen to on Average Between Visiting the HomePage**"
   ]
  },
  {
   "cell_type": "code",
   "execution_count": 67,
   "metadata": {
    "scrolled": true
   },
   "outputs": [],
   "source": [
    "function = udf(lambda ishome : int(ishome == 'Home'), IntegerType())\n",
    "\n",
    "user_window = Window \\\n",
    "    .partitionBy('userID') \\\n",
    "    .orderBy(F.desc('ts')) \\\n",
    "    .rangeBetween(Window.unboundedPreceding, 0)\n",
    "\n",
    "cusum = df_clean.filter((df_clean.page == 'NextSong') | (df_clean.page == 'Home')) \\\n",
    "    .select('userID', 'page', 'ts') \\\n",
    "    .withColumn('homevisit', function(col('page'))) \\\n",
    "    .withColumn('period', F.sum('homevisit').over(user_window))\n",
    "\n",
    "\n",
    "num_songs_per_period = cusum.filter((cusum.page == 'NextSong')) \\\n",
    "                      .groupBy('userID', 'period') \\\n",
    "                      .agg({'period':'count'})\n",
    "\n",
    "avg_songs_btw_hp_per_user = num_songs_per_period.groupby('userID').agg(F.avg('count(period)').alias('avg_songs_btw_hp_per_user'))"
   ]
  },
  {
   "cell_type": "code",
   "execution_count": 69,
   "metadata": {},
   "outputs": [
    {
     "name": "stdout",
     "output_type": "stream",
     "text": [
      "+------+-------------------------+\n",
      "|userID|avg_songs_btw_hp_per_user|\n",
      "+------+-------------------------+\n",
      "|100010|                     24.0|\n",
      "|200002|       14.090909090909092|\n",
      "|   296|       18.666666666666668|\n",
      "|   125|                     31.0|\n",
      "|   124|       27.666666666666668|\n",
      "+------+-------------------------+\n",
      "only showing top 5 rows\n",
      "\n"
     ]
    }
   ],
   "source": [
    "avg_songs_btw_hp_per_user.show(5)"
   ]
  },
  {
   "cell_type": "code",
   "execution_count": 173,
   "metadata": {},
   "outputs": [
    {
     "name": "stdout",
     "output_type": "stream",
     "text": [
      "+-------+------------------+-------------------------+\n",
      "|summary|            userID|avg_songs_btw_hp_per_user|\n",
      "+-------+------------------+-------------------------+\n",
      "|  count|               448|                      448|\n",
      "|   mean| 67520.34821428571|       21.687423516103685|\n",
      "| stddev|105964.58428485187|        6.830830204175801|\n",
      "|    min|                10|                      1.0|\n",
      "|    max|                99|                     55.0|\n",
      "+-------+------------------+-------------------------+\n",
      "\n"
     ]
    }
   ],
   "source": [
    "avg_songs_btw_hp_per_user.describe().show()"
   ]
  },
  {
   "cell_type": "code",
   "execution_count": 78,
   "metadata": {},
   "outputs": [
    {
     "data": {
      "image/png": "[encoded data removed]",
      "text/plain": [
       "<Figure size 432x288 with 1 Axes>"
      ]
     },
     "metadata": {
      "needs_background": "light"
     },
     "output_type": "display_data"
    }
   ],
   "source": [
    "plt.hist(avg_songs_btw_hp_per_user.toPandas()['avg_songs_btw_hp_per_user'],bins=20,color='darkmagenta');"
   ]
  },
  {
   "cell_type": "markdown",
   "metadata": {},
   "source": [
    "**2) Number of Different Artists Each User Listened To**"
   ]
  },
  {
   "cell_type": "code",
   "execution_count": 174,
   "metadata": {},
   "outputs": [],
   "source": [
    "num_distinct_artists = df_clean.groupby('UserId').agg(F.countDistinct(\"artist\").alias('num_distinct_artists'))"
   ]
  },
  {
   "cell_type": "code",
   "execution_count": 175,
   "metadata": {},
   "outputs": [
    {
     "name": "stdout",
     "output_type": "stream",
     "text": [
      "+------+--------------------+\n",
      "|UserId|num_distinct_artists|\n",
      "+------+--------------------+\n",
      "|   296|                 108|\n",
      "|100010|                  94|\n",
      "|200002|                 287|\n",
      "|   125|                  61|\n",
      "|   124|                1240|\n",
      "+------+--------------------+\n",
      "only showing top 5 rows\n",
      "\n"
     ]
    }
   ],
   "source": [
    "num_distinct_artists.show(5)"
   ]
  },
  {
   "cell_type": "code",
   "execution_count": 176,
   "metadata": {},
   "outputs": [
    {
     "name": "stdout",
     "output_type": "stream",
     "text": [
      "+-------+------------------+--------------------+\n",
      "|summary|            UserId|num_distinct_artists|\n",
      "+-------+------------------+--------------------+\n",
      "|  count|               448|                 448|\n",
      "|   mean| 67520.34821428571|   658.9799107142857|\n",
      "| stddev|105964.58428485182|   625.8826980519568|\n",
      "|    min|                10|                   1|\n",
      "|    max|                99|                3507|\n",
      "+-------+------------------+--------------------+\n",
      "\n"
     ]
    }
   ],
   "source": [
    "num_distinct_artists.describe().show()"
   ]
  },
  {
   "cell_type": "markdown",
   "metadata": {},
   "source": [
    "**3) Number of Songs Listened By Each User**"
   ]
  },
  {
   "cell_type": "code",
   "execution_count": 52,
   "metadata": {},
   "outputs": [],
   "source": [
    "num_songs_per_user = df_clean.groupby('userId').agg(F.count(\"song\").alias(\"num_songs_per_user\"))"
   ]
  },
  {
   "cell_type": "code",
   "execution_count": 172,
   "metadata": {},
   "outputs": [
    {
     "name": "stdout",
     "output_type": "stream",
     "text": [
      "+-------+------------------+------------------+\n",
      "|summary|            userId|num_songs_per_user|\n",
      "+-------+------------------+------------------+\n",
      "|  count|               448|               448|\n",
      "|   mean| 67520.34821428571| 966.2433035714286|\n",
      "| stddev|105964.58428485184|1150.8277640292883|\n",
      "|    min|                10|                 1|\n",
      "|    max|                99|              8177|\n",
      "+-------+------------------+------------------+\n",
      "\n"
     ]
    }
   ],
   "source": [
    "num_songs_per_user.describe().show()"
   ]
  },
  {
   "cell_type": "code",
   "execution_count": 57,
   "metadata": {
    "scrolled": true
   },
   "outputs": [
    {
     "data": {
      "image/png": "[encoded data removed]",
      "text/plain": [
       "<Figure size 432x288 with 1 Axes>"
      ]
     },
     "metadata": {
      "needs_background": "light"
     },
     "output_type": "display_data"
    }
   ],
   "source": [
    "plt.hist(num_songs_per_user.toPandas()['num_songs_per_user']);"
   ]
  },
  {
   "cell_type": "markdown",
   "metadata": {},
   "source": [
    "**4) How Long Ago a User Signed Up Compared to the Maximum Time Stamp**"
   ]
  },
  {
   "cell_type": "code",
   "execution_count": 96,
   "metadata": {},
   "outputs": [],
   "source": [
    "max_time_stamp = df_clean.agg(F.max(col(\"time_stamp\")))"
   ]
  },
  {
   "cell_type": "code",
   "execution_count": 97,
   "metadata": {},
   "outputs": [
    {
     "name": "stdout",
     "output_type": "stream",
     "text": [
      "+-------------------+\n",
      "|    max(time_stamp)|\n",
      "+-------------------+\n",
      "|2018-12-01 00:01:06|\n",
      "+-------------------+\n",
      "\n"
     ]
    }
   ],
   "source": [
    "max_time_stamp.show()"
   ]
  },
  {
   "cell_type": "code",
   "execution_count": 98,
   "metadata": {},
   "outputs": [],
   "source": [
    "max_time_stamp = max_time_stamp.collect()[0][0]"
   ]
  },
  {
   "cell_type": "code",
   "execution_count": 99,
   "metadata": {},
   "outputs": [
    {
     "data": {
      "text/plain": [
       "'2018-12-01 00:01:06'"
      ]
     },
     "execution_count": 99,
     "metadata": {},
     "output_type": "execute_result"
    }
   ],
   "source": [
    "max_time_stamp"
   ]
  },
  {
   "cell_type": "code",
   "execution_count": 127,
   "metadata": {},
   "outputs": [],
   "source": [
    "df_clean.createOrReplaceTempView(\"user_log_table\")"
   ]
  },
  {
   "cell_type": "code",
   "execution_count": 139,
   "metadata": {
    "scrolled": false
   },
   "outputs": [],
   "source": [
    "how_long_a_user = spark.sql('''SELECT userId,\n",
    "                                      datediff('2018-12-01 00:01:06' , registration_date) as how_long_a_user\n",
    "                               FROM(SELECT userId,\n",
    "                                           MIN(registration_date) as registration_date\n",
    "                                    FROM user_log_table\n",
    "                                    GROUP BY 1)\n",
    "                            ''')"
   ]
  },
  {
   "cell_type": "code",
   "execution_count": 141,
   "metadata": {
    "scrolled": true
   },
   "outputs": [
    {
     "name": "stdout",
     "output_type": "stream",
     "text": [
      "+------+---------------+\n",
      "|userId|how_long_a_user|\n",
      "+------+---------------+\n",
      "|100010|             65|\n",
      "|200002|             86|\n",
      "|   296|             78|\n",
      "|   125|            122|\n",
      "|   124|            132|\n",
      "+------+---------------+\n",
      "only showing top 5 rows\n",
      "\n"
     ]
    }
   ],
   "source": [
    "how_long_a_user.show(5)"
   ]
  },
  {
   "cell_type": "code",
   "execution_count": 171,
   "metadata": {},
   "outputs": [
    {
     "name": "stdout",
     "output_type": "stream",
     "text": [
      "+-------+------------------+-----------------+\n",
      "|summary|            userId|  how_long_a_user|\n",
      "+-------+------------------+-----------------+\n",
      "|  count|               448|              448|\n",
      "|   mean| 67520.34821428571|        96.453125|\n",
      "| stddev|105964.58428485187|37.59155908707851|\n",
      "|    min|                10|                7|\n",
      "|    max|                99|              391|\n",
      "+-------+------------------+-----------------+\n",
      "\n"
     ]
    }
   ],
   "source": [
    "how_long_a_user.describe().show()"
   ]
  },
  {
   "cell_type": "code",
   "execution_count": 143,
   "metadata": {
    "scrolled": false
   },
   "outputs": [
    {
     "data": {
      "image/png": "[encoded data removed]",
      "text/plain": [
       "<Figure size 432x288 with 1 Axes>"
      ]
     },
     "metadata": {
      "needs_background": "light"
     },
     "output_type": "display_data"
    }
   ],
   "source": [
    "plt.hist(how_long_a_user.toPandas()['how_long_a_user']);"
   ]
  },
  {
   "cell_type": "markdown",
   "metadata": {},
   "source": [
    "**5) If The User was Ever a Paid User**"
   ]
  },
  {
   "cell_type": "code",
   "execution_count": 151,
   "metadata": {},
   "outputs": [],
   "source": [
    "free_or_paid = udf(lambda x : 1 if x == 'paid' else 0, IntegerType())\n",
    "was_paid = udf(lambda x : 1 if x > 0 else 0, IntegerType())"
   ]
  },
  {
   "cell_type": "code",
   "execution_count": 155,
   "metadata": {},
   "outputs": [],
   "source": [
    "paid_users = df_clean.select('userID', 'level') \\\n",
    "                     .withColumn('free_or_paid', free_or_paid(col('level'))) \\\n",
    "                     .groupby('userID').agg(F.sum('free_or_paid')) \\\n",
    "                     .withColumn('was_paid_user', was_paid(col('sum(free_or_paid)'))).select(['userID','was_paid_user'])"
   ]
  },
  {
   "cell_type": "code",
   "execution_count": 169,
   "metadata": {
    "scrolled": true
   },
   "outputs": [
    {
     "name": "stdout",
     "output_type": "stream",
     "text": [
      "+------+-------------+\n",
      "|userID|was_paid_user|\n",
      "+------+-------------+\n",
      "|100010|            0|\n",
      "|200002|            1|\n",
      "|   296|            1|\n",
      "|   125|            0|\n",
      "|    51|            1|\n",
      "+------+-------------+\n",
      "only showing top 5 rows\n",
      "\n"
     ]
    }
   ],
   "source": [
    "paid_users.show(5)"
   ]
  },
  {
   "cell_type": "code",
   "execution_count": 170,
   "metadata": {},
   "outputs": [
    {
     "name": "stdout",
     "output_type": "stream",
     "text": [
      "+-------+------------------+-------------------+\n",
      "|summary|            userID|      was_paid_user|\n",
      "+-------+------------------+-------------------+\n",
      "|  count|               448|                448|\n",
      "|   mean| 67520.34821428571| 0.7165178571428571|\n",
      "| stddev|105964.58428485187|0.45119222592630914|\n",
      "|    min|                10|                  0|\n",
      "|    max|                99|                  1|\n",
      "+-------+------------------+-------------------+\n",
      "\n"
     ]
    }
   ],
   "source": [
    "paid_users.describe().show()"
   ]
  },
  {
   "cell_type": "markdown",
   "metadata": {},
   "source": [
    "**6) The user Gender**"
   ]
  },
  {
   "cell_type": "code",
   "execution_count": 166,
   "metadata": {
    "scrolled": true
   },
   "outputs": [],
   "source": [
    "user_gender = spark.sql('''SELECT userId, CASE WHEN gender = 'F' THEN 1 ELSE 0 END as dummy_gender\n",
    "                           FROM(SELECT distinct userId, gender\n",
    "                                FROM user_log_table)\n",
    "                        ''')"
   ]
  },
  {
   "cell_type": "code",
   "execution_count": 167,
   "metadata": {},
   "outputs": [
    {
     "name": "stdout",
     "output_type": "stream",
     "text": [
      "+------+------------+\n",
      "|userId|dummy_gender|\n",
      "+------+------------+\n",
      "|   188|           1|\n",
      "|   234|           0|\n",
      "|    44|           1|\n",
      "|   273|           0|\n",
      "|    46|           1|\n",
      "+------+------------+\n",
      "only showing top 5 rows\n",
      "\n"
     ]
    }
   ],
   "source": [
    "user_gender.show(5)"
   ]
  },
  {
   "cell_type": "code",
   "execution_count": 168,
   "metadata": {
    "scrolled": true
   },
   "outputs": [
    {
     "name": "stdout",
     "output_type": "stream",
     "text": [
      "+-------+------------------+------------------+\n",
      "|summary|            userId|      dummy_gender|\n",
      "+-------+------------------+------------------+\n",
      "|  count|               448|               448|\n",
      "|   mean| 67520.34821428571|0.4419642857142857|\n",
      "| stddev|105964.58428485188|0.4971756279079041|\n",
      "|    min|                10|                 0|\n",
      "|    max|                99|                 1|\n",
      "+-------+------------------+------------------+\n",
      "\n"
     ]
    }
   ],
   "source": [
    "user_gender.describe().show()"
   ]
  },
  {
   "cell_type": "markdown",
   "metadata": {},
   "source": [
    "**7) Overall Time a User Listened to a Song**"
   ]
  },
  {
   "cell_type": "code",
   "execution_count": 180,
   "metadata": {},
   "outputs": [],
   "source": [
    "user_total_song_length = df_clean.groupby('userID').agg(F.sum(col('length')).alias('user_total_song_length'))"
   ]
  },
  {
   "cell_type": "code",
   "execution_count": 181,
   "metadata": {},
   "outputs": [
    {
     "name": "stdout",
     "output_type": "stream",
     "text": [
      "+------+----------------------+\n",
      "|userID|user_total_song_length|\n",
      "+------+----------------------+\n",
      "|   296|    28314.150059999996|\n",
      "|100010|    25870.950739999997|\n",
      "|200002|     78695.82683999998|\n",
      "|   125|    15813.771070000003|\n",
      "|    51|     66817.21162999999|\n",
      "+------+----------------------+\n",
      "only showing top 5 rows\n",
      "\n"
     ]
    }
   ],
   "source": [
    "user_total_song_length.show(5)"
   ]
  },
  {
   "cell_type": "code",
   "execution_count": 182,
   "metadata": {},
   "outputs": [
    {
     "name": "stdout",
     "output_type": "stream",
     "text": [
      "+-------+------------------+----------------------+\n",
      "|summary|            userID|user_total_song_length|\n",
      "+-------+------------------+----------------------+\n",
      "|  count|               448|                   448|\n",
      "|   mean| 67520.34821428571|    240270.49760906238|\n",
      "| stddev|105964.58428485184|      286257.952604531|\n",
      "|    min|                10|             131.00363|\n",
      "|    max|                99|     2019435.103940004|\n",
      "+-------+------------------+----------------------+\n",
      "\n"
     ]
    }
   ],
   "source": [
    "user_total_song_length.describe().show()"
   ]
  },
  {
   "cell_type": "code",
   "execution_count": 184,
   "metadata": {
    "scrolled": true
   },
   "outputs": [
    {
     "data": {
      "image/png": "[encoded data removed]",
      "text/plain": [
       "<Figure size 432x288 with 1 Axes>"
      ]
     },
     "metadata": {
      "needs_background": "light"
     },
     "output_type": "display_data"
    }
   ],
   "source": [
    "plt.hist(user_total_song_length.toPandas()['user_total_song_length']);"
   ]
  },
  {
   "cell_type": "markdown",
   "metadata": {},
   "source": [
    "**8) Average Number of Songs Listened Per Session by Each User**"
   ]
  },
  {
   "cell_type": "code",
   "execution_count": 201,
   "metadata": {},
   "outputs": [],
   "source": [
    "avg_num_songs_per_session = df_clean.filter(df_clean['page']==\"NextSong\") \\\n",
    "                                    .groupby(['userId','sessionId']).count() \\\n",
    "                                    .groupby('userId').agg(F.avg('count') \\\n",
    "                                    .alias('avg_num_songs_per_session'))"
   ]
  },
  {
   "cell_type": "code",
   "execution_count": 202,
   "metadata": {
    "scrolled": true
   },
   "outputs": [
    {
     "name": "stdout",
     "output_type": "stream",
     "text": [
      "+------+-------------------------+\n",
      "|userId|avg_num_songs_per_session|\n",
      "+------+-------------------------+\n",
      "|200002|                     62.0|\n",
      "|   296|                     22.4|\n",
      "|100010|                     48.0|\n",
      "|   125|       20.666666666666668|\n",
      "|     7|                     30.8|\n",
      "+------+-------------------------+\n",
      "only showing top 5 rows\n",
      "\n"
     ]
    }
   ],
   "source": [
    "avg_num_songs_per_session.show(5)"
   ]
  },
  {
   "cell_type": "code",
   "execution_count": 203,
   "metadata": {},
   "outputs": [
    {
     "name": "stdout",
     "output_type": "stream",
     "text": [
      "+-------+------------------+-------------------------+\n",
      "|summary|            userId|avg_num_songs_per_session|\n",
      "+-------+------------------+-------------------------+\n",
      "|  count|               448|                      448|\n",
      "|   mean| 67520.34821428571|         65.6116840997681|\n",
      "| stddev|105964.58428485185|       39.494965666172675|\n",
      "|    min|                10|                      1.0|\n",
      "|    max|                99|                    360.0|\n",
      "+-------+------------------+-------------------------+\n",
      "\n"
     ]
    }
   ],
   "source": [
    "avg_num_songs_per_session.describe().show()"
   ]
  },
  {
   "cell_type": "code",
   "execution_count": 206,
   "metadata": {},
   "outputs": [
    {
     "data": {
      "image/png": "[encoded data removed]",
      "text/plain": [
       "<Figure size 432x288 with 1 Axes>"
      ]
     },
     "metadata": {
      "needs_background": "light"
     },
     "output_type": "display_data"
    }
   ],
   "source": [
    "plt.hist(avg_num_songs_per_session.toPandas()['avg_num_songs_per_session']);"
   ]
  },
  {
   "cell_type": "markdown",
   "metadata": {},
   "source": [
    "**Building Final Dataframe**"
   ]
  },
  {
   "cell_type": "code",
   "execution_count": 209,
   "metadata": {},
   "outputs": [],
   "source": [
    "modeling_df = avg_songs_btw_hp_per_user.join(num_distinct_artists,'userId')\n",
    "modeling_df = modeling_df.join(num_songs_per_user,'userId')\n",
    "modeling_df = modeling_df.join(how_long_a_user,'userId')\n",
    "modeling_df = modeling_df.join(paid_users,'userId')\n",
    "modeling_df = modeling_df.join(user_gender,'userId')\n",
    "modeling_df = modeling_df.join(user_total_song_length,'userId')\n",
    "modeling_df = modeling_df.join(avg_num_songs_per_session,'userId')\n",
    "modeling_df = modeling_df.join(churned_users,'userId')"
   ]
  },
  {
   "cell_type": "code",
   "execution_count": 210,
   "metadata": {},
   "outputs": [
    {
     "name": "stdout",
     "output_type": "stream",
     "text": [
      "+------+-------------------------+--------------------+------------------+---------------+-------------+------------+----------------------+-------------------------+------------+\n",
      "|userID|avg_songs_btw_hp_per_user|num_distinct_artists|num_songs_per_user|how_long_a_user|was_paid_user|dummy_gender|user_total_song_length|avg_num_songs_per_session|churned_user|\n",
      "+------+-------------------------+--------------------+------------------+---------------+-------------+------------+----------------------+-------------------------+------------+\n",
      "|100010|                     24.0|                  94|                96|             65|            0|           1|    25870.950739999997|                     48.0|           1|\n",
      "|200002|       14.090909090909092|                 287|               310|             86|            1|           0|     78695.82683999998|                     62.0|           1|\n",
      "|   296|       18.666666666666668|                 108|               112|             78|            1|           1|    28314.150059999996|                     22.4|           1|\n",
      "|   125|                     31.0|                  61|                62|            122|            0|           0|    15813.771070000003|       20.666666666666668|           0|\n",
      "|   124|       27.666666666666668|                1240|              1826|            132|            1|           1|          456664.04058|                  114.125|           1|\n",
      "+------+-------------------------+--------------------+------------------+---------------+-------------+------------+----------------------+-------------------------+------------+\n",
      "only showing top 5 rows\n",
      "\n"
     ]
    }
   ],
   "source": [
    "modeling_df.show(5)"
   ]
  },
  {
   "cell_type": "markdown",
   "metadata": {},
   "source": [
    "## <a class=\"anchor\" id=\"etl\">ETL Process</a>"
   ]
  },
  {
   "cell_type": "markdown",
   "metadata": {},
   "source": [
    "#### Now, let's convert the whole data extraction and transformation into a single function that performs this ETL process."
   ]
  },
  {
   "cell_type": "code",
   "execution_count": 211,
   "metadata": {},
   "outputs": [],
   "source": [
    "def extract_data():\n",
    "    \"\"\"\n",
    "    Extracts the raw data necessary for modeling Churn.\n",
    "    \n",
    "    Output:\n",
    "        raw_df: a raw dataframe\n",
    "    \"\"\"\n",
    "    raw_df = spark.read.json(cos.url('medium-sparkify-event-data.json', 'sparkify-donotdelete-pr-cz623hxuazrnhw'))\n",
    "    \n",
    "    return raw_df"
   ]
  },
  {
   "cell_type": "code",
   "execution_count": 225,
   "metadata": {},
   "outputs": [],
   "source": [
    "def transform_data(raw_df):\n",
    "    \"\"\"\n",
    "    Make all the necessary transformations in the raw data and performs\n",
    "    all the steps of the feature engineering process.\n",
    "    \n",
    "    Arguments:\n",
    "        raw_df: the raw dataframe\n",
    "    \n",
    "    Output:\n",
    "        modeling_df: the transformed dataframe\n",
    "    \"\"\"\n",
    "    \n",
    "    #Remove NaN Values\n",
    "    df_clean = raw_df.dropna(how = \"any\", subset = [\"userId\", \"sessionId\"])\n",
    "    \n",
    "    #Remove Duplicated Values\n",
    "    df_clean = df_clean.dropDuplicates()\n",
    "    \n",
    "    #Remove Empty Values\n",
    "    df_clean = df_clean.filter(df_clean.userId != \"\")\n",
    "    \n",
    "    #Adjust Timestamp to Datetime\n",
    "    get_strftime = udf(lambda x: datetime.datetime.fromtimestamp(x / 1000.0).strftime(\"%Y-%m-%d %H:%M:%S\"))\n",
    "    df_clean = df_clean.withColumn(\"time_stamp\", get_strftime(col(\"ts\")))\n",
    "    df_clean = df_clean.withColumn(\"registration_date\", get_strftime(col(\"registration\")))\n",
    "    \n",
    "    ###Feature Engineering\n",
    "    \n",
    "    ##Target (Churn)\n",
    "    churn_fcn = udf(lambda x: 1 if x=='Cancellation Confirmation' else 0)\n",
    "    churned_users = df_clean.withColumn(\"churn\", churn_fcn(col(\"page\")))\\\n",
    "                            .groupby('userId')\\\n",
    "                            .agg(F.max('churn').alias('churned_user'))\n",
    "    \n",
    "    ##Features\n",
    "    #Number of Songs Each User Listen to on Average Between Visiting the HomePage\n",
    "    function = udf(lambda ishome : int(ishome == 'Home'), IntegerType())\n",
    "    user_window = Window \\\n",
    "        .partitionBy('userID') \\\n",
    "        .orderBy(F.desc('ts')) \\\n",
    "        .rangeBetween(Window.unboundedPreceding, 0)\n",
    "\n",
    "    cusum = df_clean.filter((df_clean.page == 'NextSong') | (df_clean.page == 'Home')) \\\n",
    "        .select('userID', 'page', 'ts') \\\n",
    "        .withColumn('homevisit', function(col('page'))) \\\n",
    "        .withColumn('period', F.sum('homevisit').over(user_window))\n",
    "\n",
    "\n",
    "    num_songs_per_period = cusum.filter((cusum.page == 'NextSong')) \\\n",
    "                          .groupBy('userID', 'period') \\\n",
    "                          .agg({'period':'count'})\n",
    "\n",
    "    avg_songs_btw_hp_per_user = num_songs_per_period.groupby('userID') \\\n",
    "                                .agg(F.avg('count(period)') \\\n",
    "                                .alias('avg_songs_btw_hp_per_user'))\n",
    "    \n",
    "    #Number of Different Artists Each User Listened To\n",
    "    num_distinct_artists = df_clean.groupby('UserId') \\\n",
    "                           .agg(F.countDistinct(\"artist\") \\\n",
    "                           .alias('num_distinct_artists'))\n",
    "    \n",
    "    #Number of Songs Listened By Each User\n",
    "    num_songs_per_user = df_clean.groupby('userId') \\\n",
    "                         .agg(F.count(\"song\") \\\n",
    "                         .alias(\"num_songs_per_user\"))\n",
    "    \n",
    "    #How Long Ago a User Signed Up Compared to the Maximum Time Stamp\n",
    "    max_time_stamp = df_clean.agg(F.max(col(\"time_stamp\")))\n",
    "    max_time_stamp = max_time_stamp.collect()[0][0]\n",
    "    df_clean.createOrReplaceTempView(\"user_log_table\")\n",
    "    how_long_a_user = spark.sql('''SELECT userId,\n",
    "                                          datediff('2018-12-01 00:01:06' , registration_date) as how_long_a_user\n",
    "                                   FROM(SELECT userId,\n",
    "                                               MIN(registration_date) as registration_date\n",
    "                                        FROM user_log_table\n",
    "                                        GROUP BY 1)\n",
    "                                ''')\n",
    "    \n",
    "    #If The User was Ever a Paid User\n",
    "    free_or_paid = udf(lambda x : 1 if x == 'paid' else 0, IntegerType())\n",
    "    was_paid = udf(lambda x : 1 if x > 0 else 0, IntegerType())\n",
    "    paid_users = df_clean.select('userID', 'level') \\\n",
    "                         .withColumn('free_or_paid', free_or_paid(col('level'))) \\\n",
    "                         .groupby('userID').agg(F.sum('free_or_paid')) \\\n",
    "                         .withColumn('was_paid_user', was_paid(col('sum(free_or_paid)'))).select(['userID','was_paid_user'])\n",
    "    \n",
    "    #The user Gender\n",
    "    user_gender = spark.sql('''SELECT userId, CASE WHEN gender = 'F' THEN 1 ELSE 0 END as dummy_gender\n",
    "                           FROM(SELECT distinct userId, gender\n",
    "                                FROM user_log_table)\n",
    "                            ''')\n",
    "    \n",
    "    #Overall Time a User Listened to a Song\n",
    "    user_total_song_length = df_clean.groupby('userID').agg(F.sum(col('length')).alias('user_total_song_length'))\n",
    "    \n",
    "    #Average Number of Songs Listened Per Session by Each User\n",
    "    avg_num_songs_per_session = df_clean.filter(df_clean['page']==\"NextSong\") \\\n",
    "                                    .groupby(['userId','sessionId']).count() \\\n",
    "                                    .groupby('userId').agg(F.avg('count') \\\n",
    "                                    .alias('avg_num_songs_per_session'))\n",
    "    \n",
    "    ##Creating Modeling dataframe\n",
    "    modeling_df = avg_songs_btw_hp_per_user.join(num_distinct_artists,'userId')\n",
    "    modeling_df = modeling_df.join(num_songs_per_user,'userId')\n",
    "    modeling_df = modeling_df.join(how_long_a_user,'userId')\n",
    "    modeling_df = modeling_df.join(paid_users,'userId')\n",
    "    modeling_df = modeling_df.join(user_gender,'userId')\n",
    "    modeling_df = modeling_df.join(user_total_song_length,'userId')\n",
    "    modeling_df = modeling_df.join(avg_num_songs_per_session,'userId')\n",
    "    modeling_df = modeling_df.join(churned_users,'userId')\n",
    "    \n",
    "    modeling_df = modeling_df.drop('userId')\n",
    "    \n",
    "    return modeling_df"
   ]
  },
  {
   "cell_type": "code",
   "execution_count": 226,
   "metadata": {},
   "outputs": [],
   "source": [
    "def load_data(modeling_df, outpath):\n",
    "    \"\"\"\n",
    "    Save the transformed modeling data into a .csv file.\n",
    "    \n",
    "    Arguments:\n",
    "        modeling_df: the modeling dataframe\n",
    "        outpath: the output path with the file name\n",
    "    \"\"\"\n",
    "    modeling_df.toPandas().to_csv(outpath)"
   ]
  },
  {
   "cell_type": "code",
   "execution_count": 227,
   "metadata": {},
   "outputs": [],
   "source": [
    "def perform_etl_process(outpath):\n",
    "    \"\"\"\n",
    "    Performs the full ETL process necessary for predicting\n",
    "    churn. The final modeling dataframe will be returned and \n",
    "    also saved in a .csv file.\n",
    "    \n",
    "    Arguments:\n",
    "        outpath: the output path with the file name\n",
    "    \n",
    "    Output:\n",
    "        modeling_df: the modeling dataframe \n",
    "    \"\"\"\n",
    "    #Extract\n",
    "    raw_df = extract_data()\n",
    "    \n",
    "    #Transform\n",
    "    modeling_df = transform_data(raw_df)\n",
    "    \n",
    "    #Load\n",
    "    load_data(modeling_df,'modeling_df.csv')\n",
    "    \n",
    "    return modeling_df"
   ]
  },
  {
   "cell_type": "code",
   "execution_count": 228,
   "metadata": {},
   "outputs": [],
   "source": [
    "modeling_df = perform_etl_process('modeling_df.csv')"
   ]
  },
  {
   "cell_type": "markdown",
   "metadata": {},
   "source": [
    "#### Let's verify the results of the ETL function!"
   ]
  },
  {
   "cell_type": "code",
   "execution_count": 229,
   "metadata": {},
   "outputs": [
    {
     "name": "stdout",
     "output_type": "stream",
     "text": [
      "root\n",
      " |-- avg_songs_btw_hp_per_user: double (nullable = true)\n",
      " |-- num_distinct_artists: long (nullable = false)\n",
      " |-- num_songs_per_user: long (nullable = false)\n",
      " |-- how_long_a_user: integer (nullable = true)\n",
      " |-- was_paid_user: integer (nullable = true)\n",
      " |-- dummy_gender: integer (nullable = false)\n",
      " |-- user_total_song_length: double (nullable = true)\n",
      " |-- avg_num_songs_per_session: double (nullable = true)\n",
      " |-- churned_user: string (nullable = true)\n",
      "\n"
     ]
    }
   ],
   "source": [
    "modeling_df.printSchema()"
   ]
  },
  {
   "cell_type": "code",
   "execution_count": 230,
   "metadata": {},
   "outputs": [
    {
     "data": {
      "text/plain": [
       "[Row(avg_songs_btw_hp_per_user=24.0, num_distinct_artists=94, num_songs_per_user=96, how_long_a_user=65, was_paid_user=0, dummy_gender=1, user_total_song_length=25870.950739999997, avg_num_songs_per_session=48.0, churned_user='1'),\n",
       " Row(avg_songs_btw_hp_per_user=14.090909090909092, num_distinct_artists=287, num_songs_per_user=310, how_long_a_user=86, was_paid_user=1, dummy_gender=0, user_total_song_length=78695.82683999997, avg_num_songs_per_session=62.0, churned_user='1'),\n",
       " Row(avg_songs_btw_hp_per_user=18.666666666666668, num_distinct_artists=108, num_songs_per_user=112, how_long_a_user=78, was_paid_user=1, dummy_gender=1, user_total_song_length=28314.150059999996, avg_num_songs_per_session=22.4, churned_user='1'),\n",
       " Row(avg_songs_btw_hp_per_user=31.0, num_distinct_artists=61, num_songs_per_user=62, how_long_a_user=122, was_paid_user=0, dummy_gender=0, user_total_song_length=15813.771069999997, avg_num_songs_per_session=20.666666666666668, churned_user='0'),\n",
       " Row(avg_songs_btw_hp_per_user=27.666666666666668, num_distinct_artists=1240, num_songs_per_user=1826, how_long_a_user=132, was_paid_user=1, dummy_gender=1, user_total_song_length=456664.0405800002, avg_num_songs_per_session=114.125, churned_user='1')]"
      ]
     },
     "execution_count": 230,
     "metadata": {},
     "output_type": "execute_result"
    }
   ],
   "source": [
    "modeling_df.head(5)"
   ]
  },
  {
   "cell_type": "markdown",
   "metadata": {},
   "source": [
    "### <a class=\"anchor\" id=\"ml\">Predicting Churn With Machine Learning</a>"
   ]
  },
  {
   "cell_type": "markdown",
   "metadata": {},
   "source": [
    "#### Finally, in this section I will be predicting Churn using Machine Learning!"
   ]
  },
  {
   "cell_type": "markdown",
   "metadata": {},
   "source": [
    "#### Let's first devide the data into training (rest) and validation. Remembering that the rest data will also be splited through a k-fold cross-validation approach."
   ]
  },
  {
   "cell_type": "code",
   "execution_count": 259,
   "metadata": {},
   "outputs": [],
   "source": [
    "rest, validation = modeling_df.randomSplit([0.9, 0.1], seed=42)"
   ]
  },
  {
   "cell_type": "code",
   "execution_count": 260,
   "metadata": {},
   "outputs": [],
   "source": [
    "assembler = VectorAssembler(inputCols=modeling_df.columns[:-1],\n",
    "                            outputCol=\"transformeFeatures\")\n",
    "scaler = StandardScaler(inputCol=\"transformeFeatures\",\n",
    "                        outputCol=\"features\")\n",
    "indexer = StringIndexer(inputCol=\"churned_user\", outputCol=\"label\")"
   ]
  },
  {
   "cell_type": "markdown",
   "metadata": {},
   "source": [
    "#### 1) Ligistic Regression"
   ]
  },
  {
   "cell_type": "code",
   "execution_count": 261,
   "metadata": {},
   "outputs": [],
   "source": [
    "logistic_regressor = LogisticRegression(maxIter=10, regParam=0.0, elasticNetParam=0)\n",
    "\n",
    "logistic_regressor_pipeline = Pipeline(stages=[assembler, scaler, indexer, logistic_regressor])"
   ]
  },
  {
   "cell_type": "code",
   "execution_count": 262,
   "metadata": {},
   "outputs": [],
   "source": [
    "logistic_regressor_paramGrid = ParamGridBuilder() \\\n",
    "                              .addGrid(logistic_regressor.regParam,[0.0, 0.1]) \\\n",
    "                              .build()\n",
    "\n",
    "logistic_regressor_crossval = CrossValidator(estimator=logistic_regressor_pipeline,\n",
    "                                             estimatorParamMaps=logistic_regressor_paramGrid,\n",
    "                                             evaluator=MulticlassClassificationEvaluator(),\n",
    "                                             numFolds=3)"
   ]
  },
  {
   "cell_type": "code",
   "execution_count": 263,
   "metadata": {},
   "outputs": [],
   "source": [
    "logistic_regressor_clf = logistic_regressor_crossval.fit(rest)"
   ]
  },
  {
   "cell_type": "code",
   "execution_count": 264,
   "metadata": {},
   "outputs": [
    {
     "data": {
      "text/plain": [
       "[0.6944876607196324, 0.6840594290439728]"
      ]
     },
     "execution_count": 264,
     "metadata": {},
     "output_type": "execute_result"
    }
   ],
   "source": [
    "logistic_regressor_clf.avgMetrics"
   ]
  },
  {
   "cell_type": "code",
   "execution_count": 283,
   "metadata": {},
   "outputs": [
    {
     "data": {
      "image/png": "[encoded data removed]",
      "text/plain": [
       "<Figure size 432x288 with 1 Axes>"
      ]
     },
     "metadata": {},
     "output_type": "display_data"
    },
    {
     "name": "stdout",
     "output_type": "stream",
     "text": [
      "Area Under ROC Curve: 0.6098018400566172\n"
     ]
    }
   ],
   "source": [
    "#The ROC plot was extracted from the following post\n",
    "#(https://towardsdatascience.com/build-an-end-to-end-machine-learning-model-with-mllib-in-pyspark-4917bdf289c5)\n",
    "\n",
    "#plotting the ROC Curve\n",
    "trainingSummary = logistic_regressor_clf.bestModel.stages[3].summary\n",
    "roc = trainingSummary.roc.toPandas()\n",
    "plt.plot(roc['FPR'],roc['TPR'])\n",
    "plt.ylabel('False Positive Rate')\n",
    "plt.xlabel('True Positive Rate')\n",
    "plt.title('ROC Curve')\n",
    "plt.show()\n",
    "print('Area Under ROC Curve: ' + str(trainingSummary.areaUnderROC))"
   ]
  },
  {
   "cell_type": "code",
   "execution_count": 290,
   "metadata": {},
   "outputs": [
    {
     "name": "stdout",
     "output_type": "stream",
     "text": [
      "Accuracy: 0.7954545454545454\n",
      "F1 Score:0.7048331415420023\n"
     ]
    }
   ],
   "source": [
    "evaluator = MulticlassClassificationEvaluator()\n",
    "predictions = logistic_regressor_clf.transform(validation)\n",
    "print(\"Accuracy: {}\".format(evaluator.evaluate(predictions, {evaluator.metricName: \"accuracy\"})))\n",
    "print(\"F1 Score:{}\".format(evaluator.evaluate(predictions, {evaluator.metricName: \"f1\"})))"
   ]
  },
  {
   "cell_type": "markdown",
   "metadata": {},
   "source": [
    "#### 2) Random Forest Classifier"
   ]
  },
  {
   "cell_type": "code",
   "execution_count": 284,
   "metadata": {},
   "outputs": [],
   "source": [
    "random_forest = RandomForestClassifier(numTrees=10, \n",
    "                                       impurity=\"gini\")\n",
    "\n",
    "random_forest_pipeline = Pipeline(stages=[assembler, scaler, indexer, random_forest])"
   ]
  },
  {
   "cell_type": "code",
   "execution_count": 285,
   "metadata": {},
   "outputs": [],
   "source": [
    "random_forest_paramGrid = ParamGridBuilder() \\\n",
    "                          .addGrid(random_forest.maxDepth,[5, 20]) \\\n",
    "                          .build()\n",
    "\n",
    "random_forest_crossval = CrossValidator(estimator=random_forest_pipeline,\n",
    "                                        estimatorParamMaps=random_forest_paramGrid,\n",
    "                                        evaluator=MulticlassClassificationEvaluator(),\n",
    "                                        numFolds=3)"
   ]
  },
  {
   "cell_type": "code",
   "execution_count": 286,
   "metadata": {},
   "outputs": [],
   "source": [
    "random_forest_clf = random_forest_crossval.fit(rest)"
   ]
  },
  {
   "cell_type": "code",
   "execution_count": 287,
   "metadata": {},
   "outputs": [
    {
     "data": {
      "text/plain": [
       "[0.674946489172487, 0.6808960472755016]"
      ]
     },
     "execution_count": 287,
     "metadata": {},
     "output_type": "execute_result"
    }
   ],
   "source": [
    "random_forest_clf.avgMetrics"
   ]
  },
  {
   "cell_type": "code",
   "execution_count": 291,
   "metadata": {},
   "outputs": [
    {
     "name": "stdout",
     "output_type": "stream",
     "text": [
      "Accuracy: 0.75\n",
      "F1 Score:0.7301369863013697\n"
     ]
    }
   ],
   "source": [
    "evaluator = MulticlassClassificationEvaluator()\n",
    "predictions = random_forest_clf.transform(validation)\n",
    "print(\"Accuracy: {}\".format(evaluator.evaluate(predictions, {evaluator.metricName: \"accuracy\"})))\n",
    "print(\"F1 Score:{}\".format(evaluator.evaluate(predictions, {evaluator.metricName: \"f1\"})))"
   ]
  },
  {
   "cell_type": "markdown",
   "metadata": {},
   "source": [
    "### Conclusions"
   ]
  },
  {
   "cell_type": "markdown",
   "metadata": {},
   "source": [
    "#### The first interesting conclusion is that following the directions of a typical CRISP-DM approach allowed an organized and well structered project. I first started the project with some business questions in mind: can we predict churn? What usefull information do I have available that could be usefull in this task? Then, an Explanatory Data Analysis guided the project into usefull insights that was essential for feature engineering.\n",
    "\n",
    "#### The process of creating features was then guided by a ETL process, where data was first extracted from a json file and then all the necessary transformations were applied. The ETL process was summarized into a function and the resulting modeling database was loaded into a csv file.\n",
    "\n",
    "#### Machine learning techniques were applied in order to predict churn and satisfactory results were obtained.\n",
    "\n",
    "#### As a important conclusion, one should notice that more precise results could easily been obtained through a more intense search for parameters in the used models. However, that would require lot more computational power, which also means costs! "
   ]
  },
  {
   "cell_type": "markdown",
   "metadata": {},
   "source": [
    "### References\n",
    "[1] https://www.netigate.net/articles/customer-satisfaction/customer-churn-meaning/\n",
    "\n",
    "[2] https://stackoverflow.com/questions/21151450/how-can-i-add-a-table-of-contents-to-an-ipython-notebook\n",
    "\n",
    "[3] https://stackoverflow.com/questions/19746350/how-does-one-change-color-in-markdown-cells-ipython-jupyter-notebook\n",
    "\n",
    "[4] https://stackoverflow.com/questions/37021964/pyspark-model-interpretation-from-pipeline-model\n",
    "\n",
    "[5] https://stackoverflow.com/questions/36697304/how-to-extract-model-hyper-parameters-from-spark-ml-in-pyspark\n",
    "\n",
    "[6] https://stackoverflow.com/questions/44866488/spark-ml-pipeline-with-randomforest-takes-too-long-on-20mb-dataset\n",
    "\n",
    "[7] https://towardsdatascience.com/build-an-end-to-end-machine-learning-model-with-mllib-in-pyspark-4917bdf289c5\n",
    "\n",
    "[8] https://stackoverflow.com/questions/51230726/extract-results-from-crossvalidator-with-paramgrid-in-pyspark\n",
    "\n",
    "[9] https://stackoverflow.com/questions/45024192/pyspark-randomforest-feature-importance-how-to-get-column-names-from-the-column?rq=1\n",
    "\n",
    "[10] https://stackoverflow.com/questions/40888946/spark-dataframe-count-distinct-values-of-every-column\n",
    "\n",
    "[11] https://stackoverflow.com/questions/52527571/datediff-in-spark-sql"
   ]
  }
 ],
 "metadata": {
  "kernelspec": {
   "display_name": "Python 3.6 with Spark",
   "language": "python3",
   "name": "python36"
  },
  "language_info": {
   "codemirror_mode": {
    "name": "ipython",
    "version": 3
   },
   "file_extension": ".py",
   "mimetype": "text/x-python",
   "name": "python",
   "nbconvert_exporter": "python",
   "pygments_lexer": "ipython3",
   "version": "3.6.8"
  }
 },
 "nbformat": 4,
 "nbformat_minor": 1
}
